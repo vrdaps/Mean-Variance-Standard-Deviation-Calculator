{
 "cells": [
  {
   "cell_type": "code",
   "execution_count": 1,
   "id": "40d28b25",
   "metadata": {},
   "outputs": [],
   "source": [
    "import numpy as np"
   ]
  },
  {
   "cell_type": "code",
   "execution_count": 2,
   "id": "c6a1b03d",
   "metadata": {},
   "outputs": [
    {
     "name": "stdout",
     "output_type": "stream",
     "text": [
      "[[0 1 2]\n",
      " [3 4 5]\n",
      " [6 7 8]]\n"
     ]
    }
   ],
   "source": [
    "list = [0,1,2,3,4,5,6,7,8]\n",
    "\n",
    "matrix = np.array(list).reshape(3,3)\n",
    "print(matrix)"
   ]
  },
  {
   "cell_type": "code",
   "execution_count": 3,
   "id": "5a13daf1",
   "metadata": {},
   "outputs": [
    {
     "data": {
      "text/plain": [
       "[array([0, 3, 6]), array([1, 4, 7]), array([2, 5, 8])]"
      ]
     },
     "execution_count": 3,
     "metadata": {},
     "output_type": "execute_result"
    }
   ],
   "source": [
    "axis1a = np.array([matrix[0,0],matrix[1,0],matrix[2,0]])\n",
    "axis1b = np.array([matrix[0,1],matrix[1,1],matrix[2,1]])\n",
    "axis1c = np.array([matrix[0,2],matrix[1,2],matrix[2,2]])\n",
    "\n",
    "axis1 = [axis1a, axis1b, axis1c]\n",
    "axis1"
   ]
  },
  {
   "cell_type": "code",
   "execution_count": 4,
   "id": "8041d9e4",
   "metadata": {},
   "outputs": [
    {
     "data": {
      "text/plain": [
       "[array([0, 1, 2]), array([3, 4, 5]), array([6, 7, 8])]"
      ]
     },
     "execution_count": 4,
     "metadata": {},
     "output_type": "execute_result"
    }
   ],
   "source": [
    "axis2a = np.array([matrix[0,0],matrix[0,1],matrix[0,2]])\n",
    "axis2b = np.array([matrix[1,0],matrix[1,1],matrix[1,2]])\n",
    "axis2c = np.array([matrix[2,0],matrix[2,1],matrix[2,2]])\n",
    "\n",
    "axis2 = [axis2a, axis2b, axis2c]\n",
    "axis2"
   ]
  },
  {
   "cell_type": "code",
   "execution_count": 5,
   "id": "748b48c0",
   "metadata": {},
   "outputs": [
    {
     "data": {
      "text/plain": [
       "[3.0, 4.0, 5.0]"
      ]
     },
     "execution_count": 5,
     "metadata": {},
     "output_type": "execute_result"
    }
   ],
   "source": [
    "mean1a = axis1a.mean()\n",
    "mean1b = axis1b.mean()\n",
    "mean1c = axis1c.mean()\n",
    "\n",
    "mean_a1 = [mean1a, mean1b, mean1c]\n",
    "mean_a1"
   ]
  },
  {
   "cell_type": "code",
   "execution_count": 6,
   "id": "2184d6c1",
   "metadata": {},
   "outputs": [
    {
     "data": {
      "text/plain": [
       "[1.0, 4.0, 7.0]"
      ]
     },
     "execution_count": 6,
     "metadata": {},
     "output_type": "execute_result"
    }
   ],
   "source": [
    "mean2a = axis2a.mean()\n",
    "mean2b = axis2b.mean()\n",
    "mean2c = axis2c.mean()\n",
    "\n",
    "mean_a2 = [mean2a, mean2b, mean2c]\n",
    "mean_a2"
   ]
  },
  {
   "cell_type": "code",
   "execution_count": 7,
   "id": "f234d4f2",
   "metadata": {},
   "outputs": [
    {
     "data": {
      "text/plain": [
       "4.0"
      ]
     },
     "execution_count": 7,
     "metadata": {},
     "output_type": "execute_result"
    }
   ],
   "source": [
    "mean_flat = matrix.mean()\n",
    "\n",
    "mean_flat"
   ]
  },
  {
   "cell_type": "code",
   "execution_count": 8,
   "id": "66a9352c",
   "metadata": {},
   "outputs": [
    {
     "data": {
      "text/plain": [
       "[6.0, 6.0, 6.0]"
      ]
     },
     "execution_count": 8,
     "metadata": {},
     "output_type": "execute_result"
    }
   ],
   "source": [
    "var1a = axis1a.var()\n",
    "var1b = axis1b.var()\n",
    "var1c = axis1c.var()\n",
    "\n",
    "var_a1 = [var1a, var1b, var1c]\n",
    "var_a1"
   ]
  },
  {
   "cell_type": "code",
   "execution_count": 9,
   "id": "f0e9fe52",
   "metadata": {},
   "outputs": [
    {
     "data": {
      "text/plain": [
       "[0.6666666666666666, 0.6666666666666666, 0.6666666666666666]"
      ]
     },
     "execution_count": 9,
     "metadata": {},
     "output_type": "execute_result"
    }
   ],
   "source": [
    "var2a = axis2a.var()\n",
    "var2b = axis2b.var()\n",
    "var2c = axis2c.var()\n",
    "\n",
    "var_a2 = [var2a, var2b, var2c]\n",
    "var_a2"
   ]
  },
  {
   "cell_type": "code",
   "execution_count": 10,
   "id": "0053eeac",
   "metadata": {},
   "outputs": [
    {
     "data": {
      "text/plain": [
       "6.666666666666667"
      ]
     },
     "execution_count": 10,
     "metadata": {},
     "output_type": "execute_result"
    }
   ],
   "source": [
    "var_flat = matrix.var()\n",
    "\n",
    "var_flat"
   ]
  },
  {
   "cell_type": "code",
   "execution_count": 11,
   "id": "a5188534",
   "metadata": {},
   "outputs": [
    {
     "data": {
      "text/plain": [
       "[2.449489742783178, 2.449489742783178, 2.449489742783178]"
      ]
     },
     "execution_count": 11,
     "metadata": {},
     "output_type": "execute_result"
    }
   ],
   "source": [
    "std1a = axis1a.std()\n",
    "std1b = axis1b.std()\n",
    "std1c = axis1c.std()\n",
    "\n",
    "std_a1 = [std1a, std1b, std1c]\n",
    "std_a1"
   ]
  },
  {
   "cell_type": "code",
   "execution_count": 12,
   "id": "550985fa",
   "metadata": {},
   "outputs": [
    {
     "data": {
      "text/plain": [
       "[0.816496580927726, 0.816496580927726, 0.816496580927726]"
      ]
     },
     "execution_count": 12,
     "metadata": {},
     "output_type": "execute_result"
    }
   ],
   "source": [
    "std2a = axis2a.std()\n",
    "std2b = axis2b.std()\n",
    "std2c = axis2c.std()\n",
    "\n",
    "std_a2 = [std2a, std2b, std2c]\n",
    "std_a2"
   ]
  },
  {
   "cell_type": "code",
   "execution_count": 13,
   "id": "2fc3f9bb",
   "metadata": {},
   "outputs": [
    {
     "data": {
      "text/plain": [
       "2.581988897471611"
      ]
     },
     "execution_count": 13,
     "metadata": {},
     "output_type": "execute_result"
    }
   ],
   "source": [
    "std_flat = matrix.std()\n",
    "\n",
    "std_flat"
   ]
  },
  {
   "cell_type": "code",
   "execution_count": 14,
   "id": "ce2c9cdd",
   "metadata": {},
   "outputs": [
    {
     "data": {
      "text/plain": [
       "[6, 7, 8]"
      ]
     },
     "execution_count": 14,
     "metadata": {},
     "output_type": "execute_result"
    }
   ],
   "source": [
    "max1a = axis1a.max()\n",
    "max1b = axis1b.max()\n",
    "max1c = axis1c.max()\n",
    "\n",
    "max_a1 = [max1a, max1b, max1c]\n",
    "max_a1"
   ]
  },
  {
   "cell_type": "code",
   "execution_count": 15,
   "id": "4e0b88d0",
   "metadata": {},
   "outputs": [
    {
     "data": {
      "text/plain": [
       "[2, 5, 8]"
      ]
     },
     "execution_count": 15,
     "metadata": {},
     "output_type": "execute_result"
    }
   ],
   "source": [
    "max2a = axis2a.max()\n",
    "max2b = axis2b.max()\n",
    "max2c = axis2c.max()\n",
    "\n",
    "max_a2 = [max2a, max2b, max2c]\n",
    "max_a2"
   ]
  },
  {
   "cell_type": "code",
   "execution_count": 16,
   "id": "2169c787",
   "metadata": {},
   "outputs": [
    {
     "data": {
      "text/plain": [
       "8"
      ]
     },
     "execution_count": 16,
     "metadata": {},
     "output_type": "execute_result"
    }
   ],
   "source": [
    "max_flat = matrix.max()\n",
    "\n",
    "max_flat"
   ]
  },
  {
   "cell_type": "code",
   "execution_count": 17,
   "id": "c3c950a2",
   "metadata": {},
   "outputs": [
    {
     "data": {
      "text/plain": [
       "[0, 1, 2]"
      ]
     },
     "execution_count": 17,
     "metadata": {},
     "output_type": "execute_result"
    }
   ],
   "source": [
    "min1a = axis1a.min()\n",
    "min1b = axis1b.min()\n",
    "min1c = axis1c.min()\n",
    "\n",
    "min_a1 = [min1a, min1b, min1c]\n",
    "min_a1"
   ]
  },
  {
   "cell_type": "code",
   "execution_count": 18,
   "id": "788490ca",
   "metadata": {},
   "outputs": [
    {
     "data": {
      "text/plain": [
       "[0, 3, 6]"
      ]
     },
     "execution_count": 18,
     "metadata": {},
     "output_type": "execute_result"
    }
   ],
   "source": [
    "min2a = axis2a.min()\n",
    "min2b = axis2b.min()\n",
    "min2c = axis2c.min()\n",
    "\n",
    "min_a2 = [min2a, min2b, min2c]\n",
    "min_a2"
   ]
  },
  {
   "cell_type": "code",
   "execution_count": 19,
   "id": "c9526ec6",
   "metadata": {},
   "outputs": [
    {
     "data": {
      "text/plain": [
       "0"
      ]
     },
     "execution_count": 19,
     "metadata": {},
     "output_type": "execute_result"
    }
   ],
   "source": [
    "min_flat = matrix.min()\n",
    "min_flat"
   ]
  },
  {
   "cell_type": "code",
   "execution_count": 20,
   "id": "2386af75",
   "metadata": {},
   "outputs": [
    {
     "data": {
      "text/plain": [
       "[9, 12, 15]"
      ]
     },
     "execution_count": 20,
     "metadata": {},
     "output_type": "execute_result"
    }
   ],
   "source": [
    "sum1a = axis1a.sum()\n",
    "sum1b = axis1b.sum()\n",
    "sum1c = axis1c.sum()\n",
    "\n",
    "sum_a1 = [sum1a, sum1b, sum1c]\n",
    "sum_a1"
   ]
  },
  {
   "cell_type": "code",
   "execution_count": 21,
   "id": "b869a4e6",
   "metadata": {},
   "outputs": [
    {
     "data": {
      "text/plain": [
       "[3, 12, 21]"
      ]
     },
     "execution_count": 21,
     "metadata": {},
     "output_type": "execute_result"
    }
   ],
   "source": [
    "sum2a = axis2a.sum()\n",
    "sum2b = axis2b.sum()\n",
    "sum2c = axis2c.sum()\n",
    "\n",
    "sum_a2 = [sum2a, sum2b, sum2c]\n",
    "sum_a2"
   ]
  },
  {
   "cell_type": "code",
   "execution_count": 22,
   "id": "0cb9537e",
   "metadata": {},
   "outputs": [
    {
     "data": {
      "text/plain": [
       "36"
      ]
     },
     "execution_count": 22,
     "metadata": {},
     "output_type": "execute_result"
    }
   ],
   "source": [
    "sum_flat = matrix.sum()\n",
    "sum_flat"
   ]
  },
  {
   "cell_type": "code",
   "execution_count": 23,
   "id": "5b9250d6",
   "metadata": {},
   "outputs": [
    {
     "data": {
      "text/plain": [
       "{'mean': [[3.0, 4.0, 5.0], [1.0, 4.0, 7.0], 4.0],\n",
       " 'variance': [[6.0, 6.0, 6.0],\n",
       "  [0.6666666666666666, 0.6666666666666666, 0.6666666666666666],\n",
       "  6.666666666666667],\n",
       " 'standard deviation': [[2.449489742783178,\n",
       "   2.449489742783178,\n",
       "   2.449489742783178],\n",
       "  [0.816496580927726, 0.816496580927726, 0.816496580927726],\n",
       "  2.581988897471611],\n",
       " 'max': [[6, 7, 8], [2, 5, 8], 8],\n",
       " 'min': [[0, 1, 2], [0, 3, 6], 0],\n",
       " 'sum': [[9, 12, 15], [3, 12, 21], 36]}"
      ]
     },
     "execution_count": 23,
     "metadata": {},
     "output_type": "execute_result"
    }
   ],
   "source": [
    "data_dict = {\n",
    "             'mean':[mean_a1, mean_a2, mean_flat],\n",
    "             'variance':[var_a1, var_a2, var_flat],\n",
    "             'standard deviation':[std_a1, std_a2, std_flat],\n",
    "             'max':[max_a1, max_a2, max_flat],\n",
    "             'min':[min_a1, min_a2, min_flat],\n",
    "             'sum':[sum_a1, sum_a2, sum_flat]\n",
    "            }\n",
    "data_dict"
   ]
  }
 ],
 "metadata": {
  "kernelspec": {
   "display_name": "Python 3 (ipykernel)",
   "language": "python",
   "name": "python3"
  },
  "language_info": {
   "codemirror_mode": {
    "name": "ipython",
    "version": 3
   },
   "file_extension": ".py",
   "mimetype": "text/x-python",
   "name": "python",
   "nbconvert_exporter": "python",
   "pygments_lexer": "ipython3",
   "version": "3.8.10"
  }
 },
 "nbformat": 4,
 "nbformat_minor": 5
}
